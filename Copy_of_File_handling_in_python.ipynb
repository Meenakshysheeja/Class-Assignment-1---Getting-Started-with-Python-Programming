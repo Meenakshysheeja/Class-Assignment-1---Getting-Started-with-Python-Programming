{
  "nbformat": 4,
  "nbformat_minor": 0,
  "metadata": {
    "colab": {
      "name": "Copy of File handling in python",
      "provenance": [],
      "collapsed_sections": [],
      "authorship_tag": "ABX9TyOb+mCxt9aiOpJ8KvB4JAIi",
      "include_colab_link": true
    },
    "kernelspec": {
      "name": "python3",
      "display_name": "Python 3"
    }
  },
  "cells": [
    {
      "cell_type": "markdown",
      "metadata": {
        "id": "view-in-github",
        "colab_type": "text"
      },
      "source": [
        "<a href=\"https://colab.research.google.com/github/Meenakshysheeja/Class-Assignment-1---Getting-Started-with-Python-Programming/blob/master/Copy_of_File_handling_in_python.ipynb\" target=\"_parent\"><img src=\"https://colab.research.google.com/assets/colab-badge.svg\" alt=\"Open In Colab\"/></a>"
      ]
    },
    {
      "cell_type": "code",
      "metadata": {
        "id": "ZfgJ2QguyrLg",
        "outputId": "cf4f4970-aede-4280-c396-54732f77203b",
        "colab": {
          "base_uri": "https://localhost:8080/"
        }
      },
      "source": [
        " \n",
        "#1\n",
        "# Python3 code to demonstrate \n",
        "# sorting and removal of duplicates \n",
        "# Using sorted() + set() + count() \n",
        " \n",
        "  \n",
        "# initializing list \n",
        " \n",
        "test_list = [5, 6, 2, 5, 3, 3, 6, 5, 5, 6, 5] \n",
        " \n",
        "  \n",
        "# printing original list \n",
        " \n",
        "print(\"The original list : \" + str(test_list)) \n",
        " \n",
        "  \n",
        "# using sorted() + set() + count() \n",
        "# sorting and removal of duplicates \n",
        " \n",
        "res = sorted(set(test_list), key = lambda ele: test_list.count(ele)) \n",
        " \n",
        "  \n",
        "# print result \n",
        " \n",
        "print(\"The list after sorting and removal : \" + str(res))"
      ],
      "execution_count": null,
      "outputs": [
        {
          "output_type": "stream",
          "text": [
            "The original list : [5, 6, 2, 5, 3, 3, 6, 5, 5, 6, 5]\n",
            "The list after sorting and removal : [2, 3, 6, 5]\n"
          ],
          "name": "stdout"
        }
      ]
    },
    {
      "cell_type": "code",
      "metadata": {
        "id": "7wJs6nyX6l9R"
      },
      "source": [
        " \n",
        "#2\n",
        "def fileExists(file):\n",
        "    try:\n",
        "        f = open(file,'r')\n",
        "        f.close()\n",
        "    except FileNotFoundError:\n",
        "        return False\n",
        "    return True\n",
        "def isLineEmpty(line):\n",
        "    return len(line.strip()) < 1 \n",
        "def removeEmptyLines(file):\n",
        "    lines = []\n",
        "    if not fileExists(file):\n",
        "        print (\"{} does not exist \".format(file))\n",
        "        return\n",
        "    out = open(file,'r')\n",
        "    lines = out.readlines()\n",
        "    out.close()\n",
        "    out = open(file,'w')\n",
        "    t=[]\n",
        "    for line in lines:\n",
        "        if not isLineEmpty(line):\n",
        "            t.append(line)\n",
        "    out.writelines(t)   \n",
        "    out.close()"
      ],
      "execution_count": null,
      "outputs": []
    }
  ]
}