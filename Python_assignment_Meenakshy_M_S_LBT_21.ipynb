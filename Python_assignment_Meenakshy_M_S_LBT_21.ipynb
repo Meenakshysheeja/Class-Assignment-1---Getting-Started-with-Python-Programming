{
  "nbformat": 4,
  "nbformat_minor": 0,
  "metadata": {
    "colab": {
      "name": "Python assignment Meenakshy M S LBT 21",
      "provenance": [],
      "authorship_tag": "ABX9TyNiqih4KVwLU78M4HP1e/82",
      "include_colab_link": true
    },
    "kernelspec": {
      "name": "python3",
      "display_name": "Python 3"
    }
  },
  "cells": [
    {
      "cell_type": "markdown",
      "metadata": {
        "id": "view-in-github",
        "colab_type": "text"
      },
      "source": [
        "<a href=\"https://colab.research.google.com/github/Meenakshysheeja/Class-Assignment-1---Getting-Started-with-Python-Programming/blob/master/Python_assignment_Meenakshy_M_S_LBT_21.ipynb\" target=\"_parent\"><img src=\"https://colab.research.google.com/assets/colab-badge.svg\" alt=\"Open In Colab\"/></a>"
      ]
    },
    {
      "cell_type": "code",
      "metadata": {
        "id": "YKwLJvnw4wiK",
        "outputId": "6b68bf1e-3037-4c10-d9ab-b79ca4db5dcd",
        "colab": {
          "base_uri": "https://localhost:8080/",
          "height": 34
        }
      },
      "source": [
        "# Python program to find largest \n",
        "# number in a list \n",
        " \n",
        "  \n",
        "# list of numbers \n",
        " \n",
        "list1 = [10, 20, 4, 45, 99] \n",
        " \n",
        "  \n",
        "# sorting the list \n",
        "list1.sort() \n",
        " \n",
        "  \n",
        "# printing the last element \n",
        " \n",
        "print(\"Largest element is:\", list1[-1])"
      ],
      "execution_count": null,
      "outputs": [
        {
          "output_type": "stream",
          "text": [
            "Largest element is: 99\n"
          ],
          "name": "stdout"
        }
      ]
    },
    {
      "cell_type": "code",
      "metadata": {
        "id": "jSQwajrq7Imp",
        "outputId": "f732a6c9-0491-48d9-e5b2-aed98a4c64e3",
        "colab": {
          "base_uri": "https://localhost:8080/",
          "height": 34
        }
      },
      "source": [
        " \n",
        "#3\n",
        "def sum_list(items):\n",
        "    sum_numbers = 0\n",
        "    for x in items:\n",
        "        sum_numbers += x\n",
        "    return sum_numbers\n",
        "print(sum_list([1,2,-8]))"
      ],
      "execution_count": null,
      "outputs": [
        {
          "output_type": "stream",
          "text": [
            "-5\n"
          ],
          "name": "stdout"
        }
      ]
    },
    {
      "cell_type": "code",
      "metadata": {
        "id": "xoLnvvB-7SQ8"
      },
      "source": [
        ""
      ],
      "execution_count": null,
      "outputs": []
    },
    {
      "cell_type": "code",
      "metadata": {
        "id": "KYh1Ti_R7S2A",
        "outputId": "b451034c-f5a8-4b31-c085-0eca39752f9d",
        "colab": {
          "base_uri": "https://localhost:8080/",
          "height": 34
        }
      },
      "source": [
        "# Python code to remove duplicate elements \n",
        " \n",
        "def Remove(duplicate): \n",
        " \n",
        "    final_list = [] \n",
        " \n",
        "    for num in duplicate: \n",
        " \n",
        "        if num not in final_list: \n",
        " \n",
        "            final_list.append(num) \n",
        " \n",
        "    return final_list \n",
        " \n",
        "      \n",
        "# Driver Code \n",
        " \n",
        "duplicate = [2, 4, 10, 20, 5, 2, 20, 4] \n",
        " \n",
        "print(Remove(duplicate))"
      ],
      "execution_count": null,
      "outputs": [
        {
          "output_type": "stream",
          "text": [
            "[2, 4, 10, 20, 5]\n"
          ],
          "name": "stdout"
        }
      ]
    },
    {
      "cell_type": "code",
      "metadata": {
        "id": "AJNGma2J7bOu",
        "outputId": "4c03f47f-4800-4f2c-ac80-08bb348def6f",
        "colab": {
          "base_uri": "https://localhost:8080/",
          "height": 51
        }
      },
      "source": [
        "def common_data(list1, list2):\n",
        "     result = False\n",
        "     for x in list1:\n",
        "         for y in list2:\n",
        "             if x == y:\n",
        "                 result = True\n",
        "                 return result\n",
        "print(common_data([1,2,3,4,5], [5,6,7,8,9]))\n",
        "print(common_data([1,2,3,4,5], [6,7,8,9]))"
      ],
      "execution_count": null,
      "outputs": [
        {
          "output_type": "stream",
          "text": [
            "True\n",
            "None\n"
          ],
          "name": "stdout"
        }
      ]
    },
    {
      "cell_type": "code",
      "metadata": {
        "id": "HI7snCWP7nku",
        "outputId": "4d0f3434-bab2-4680-f436-6b0380e70d08",
        "colab": {
          "base_uri": "https://localhost:8080/",
          "height": 51
        }
      },
      "source": [
        "#2\n",
        "flowerList = ['rose', 'daffodil', 'sunflower', 'poppy', 'bluebell']\n",
        " \n",
        "# Take the name of the flower that you want to search in the list\n",
        "flowerName = input(\"Enter a flower name:\")\n",
        " \n",
        "# Search the element using 'in' operator\n",
        "if flowerName.lower() in flowerList:\n",
        " \n",
        "  # Print success message\n",
        "  print(\"%s is found in the list\" %(flowerName))\n",
        "else:\n",
        " \n",
        "  # Print not found message\n",
        "  print(\"%s is not found in the list\" %(flowerName))"
      ],
      "execution_count": null,
      "outputs": [
        {
          "output_type": "stream",
          "text": [
            "Enter a flower name:Rose\n",
            "Rose is found in the list\n"
          ],
          "name": "stdout"
        }
      ]
    },
    {
      "cell_type": "code",
      "metadata": {
        "id": "Syar29pF9dWZ",
        "outputId": "93d5dafc-dbdf-4573-ab6c-68e58d776d89",
        "colab": {
          "base_uri": "https://localhost:8080/",
          "height": 54
        }
      },
      "source": [
        "list1 = [1, 2, 3, 0]\n",
        "list2 = ['Red', 'Green', 'Black']\n",
        "final_list = list1 + list2\n",
        "print(final_list)"
      ],
      "execution_count": null,
      "outputs": [
        {
          "output_type": "stream",
          "text": [
            "[1, 2, 3, 0, 'Red', 'Green', 'Black']\n"
          ],
          "name": "stdout"
        }
      ]
    },
    {
      "cell_type": "code",
      "metadata": {
        "id": "KP88tJft9mFl",
        "outputId": "455e41f0-1b9f-4428-c478-29ab1d9e0476",
        "colab": {
          "base_uri": "https://localhost:8080/",
          "height": 71
        }
      },
      "source": [
        "n=int(input('Enter the number '))\n",
        "factor=0\n",
        "for i in range(1,n):\n",
        "  if n%i==0:\n",
        "    factor=i\n",
        "if factor>1:\n",
        "  print ('The number is a composite number!')\n",
        "elif n==1:\n",
        "  print ('The number 1 is neither prime nor composite!')\n",
        "else:\n",
        "  print ('This is not a composite number!')"
      ],
      "execution_count": null,
      "outputs": [
        {
          "output_type": "stream",
          "text": [
            "Enter the number 4\n",
            "The number is a composite number!\n"
          ],
          "name": "stdout"
        }
      ]
    },
    {
      "cell_type": "code",
      "metadata": {
        "id": "D_YZRxOx9qnG",
        "outputId": "b7f3931c-8821-498f-cdba-092f49e06ba4",
        "colab": {
          "base_uri": "https://localhost:8080/",
          "height": 68
        }
      },
      "source": [
        "# Program to add two matrices using nested loop\n",
        " \n",
        "X = [[12,7,3],\n",
        "    [4 ,5,6],\n",
        "    [7 ,8,9]]\n",
        " \n",
        "Y = [[5,8,1],\n",
        "    [6,7,3],\n",
        "    [4,5,9]]\n",
        " \n",
        "result = [[0,0,0],\n",
        "         [0,0,0],\n",
        "         [0,0,0]]\n",
        " \n",
        "# iterate through rows\n",
        "for i in range(len(X)):\n",
        "   # iterate through columns\n",
        "   for j in range(len(X[0])):\n",
        "       result[i][j] = X[i][j] + Y[i][j]\n",
        " \n",
        "for r in result:\n",
        "   print(r)"
      ],
      "execution_count": null,
      "outputs": [
        {
          "output_type": "stream",
          "text": [
            "[17, 15, 4]\n",
            "[10, 12, 9]\n",
            "[11, 13, 18]\n"
          ],
          "name": "stdout"
        }
      ]
    },
    {
      "cell_type": "code",
      "metadata": {
        "id": "DCRuCoPv9vIX",
        "outputId": "8e578aca-7ccb-4df9-ff0a-26db57b212e5",
        "colab": {
          "base_uri": "https://localhost:8080/",
          "height": 34
        }
      },
      "source": [
        "# function which return reverse of a string\n",
        " \n",
        " \n",
        "def isPalindrome(s):\n",
        " \n",
        "    return s == s[::-1]\n",
        " \n",
        " \n",
        "# Driver code\n",
        " \n",
        "s = \"malayalam\"\n",
        " \n",
        "ans = isPalindrome(s)\n",
        " \n",
        " \n",
        "if ans:\n",
        " \n",
        "    print(\"Yes\")\n",
        " \n",
        "else:\n",
        " \n",
        "    print(\"No\")"
      ],
      "execution_count": null,
      "outputs": [
        {
          "output_type": "stream",
          "text": [
            "Yes\n"
          ],
          "name": "stdout"
        }
      ]
    },
    {
      "cell_type": "code",
      "metadata": {
        "id": "WXb7HxT59yaN",
        "outputId": "99457dac-4a8a-48ca-a1d1-20342417e4e3",
        "colab": {
          "base_uri": "https://localhost:8080/",
          "height": 221
        }
      },
      "source": [
        "# Python Program to Print Multiplication Table of a Number\n",
        " \n",
        "num = int(input(\"Enter the number: \"))\n",
        " \n",
        "print(\"Multiplication Table of\", num)\n",
        "for i in range(1, 11):\n",
        "   print(num,\"X\",i,\"=\",num * i)"
      ],
      "execution_count": null,
      "outputs": [
        {
          "output_type": "stream",
          "text": [
            "Enter the number: 5\n",
            "Multiplication Table of 5\n",
            "5 X 1 = 5\n",
            "5 X 2 = 10\n",
            "5 X 3 = 15\n",
            "5 X 4 = 20\n",
            "5 X 5 = 25\n",
            "5 X 6 = 30\n",
            "5 X 7 = 35\n",
            "5 X 8 = 40\n",
            "5 X 9 = 45\n",
            "5 X 10 = 50\n"
          ],
          "name": "stdout"
        }
      ]
    }
  ]
}