{
  "nbformat": 4,
  "nbformat_minor": 0,
  "metadata": {
    "colab": {
      "name": "Python: series 1 ",
      "provenance": [],
      "authorship_tag": "ABX9TyPFXb04POvRNxxV6LI4kvw1",
      "include_colab_link": true
    },
    "kernelspec": {
      "name": "python3",
      "display_name": "Python 3"
    }
  },
  "cells": [
    {
      "cell_type": "markdown",
      "metadata": {
        "id": "view-in-github",
        "colab_type": "text"
      },
      "source": [
        "<a href=\"https://colab.research.google.com/github/Meenakshysheeja/Class-Assignment-1---Getting-Started-with-Python-Programming/blob/master/Python_series_1.ipynb\" target=\"_parent\"><img src=\"https://colab.research.google.com/assets/colab-badge.svg\" alt=\"Open In Colab\"/></a>"
      ]
    },
    {
      "cell_type": "code",
      "metadata": {
        "id": "0utijbfVgZ-T",
        "outputId": "964adea8-8046-4d1c-962b-3f791760a1a7",
        "colab": {
          "base_uri": "https://localhost:8080/",
          "height": 164
        }
      },
      "source": [
        "#1\n",
        "def function1():\n",
        "pass\n",
        "def function2():\n",
        "pass\n",
        "Print(\"Above are place holder\")"
      ],
      "execution_count": 1,
      "outputs": [
        {
          "output_type": "error",
          "ename": "IndentationError",
          "evalue": "ignored",
          "traceback": [
            "\u001b[0;36m  File \u001b[0;32m\"<ipython-input-1-98d6b8b34755>\"\u001b[0;36m, line \u001b[0;32m3\u001b[0m\n\u001b[0;31m    pass\u001b[0m\n\u001b[0m       ^\u001b[0m\n\u001b[0;31mIndentationError\u001b[0m\u001b[0;31m:\u001b[0m expected an indented block\n"
          ]
        }
      ]
    },
    {
      "cell_type": "code",
      "metadata": {
        "id": "M1gSxf_1giNV",
        "outputId": "cda41711-93f5-4f1c-e7f8-9efcce4fef9c",
        "colab": {
          "base_uri": "https://localhost:8080/",
          "height": 70
        }
      },
      "source": [
        " \n",
        "#2\n",
        "from math import pi\n",
        "r=float(input(\"enter radius of circle\")) \n",
        "print (\"area of the circle is:\") \n",
        "(str(pi*r**2))"
      ],
      "execution_count": 2,
      "outputs": [
        {
          "output_type": "stream",
          "text": [
            "enter radius of circle6\n",
            "area of the circle is:\n"
          ],
          "name": "stdout"
        },
        {
          "output_type": "execute_result",
          "data": {
            "application/vnd.google.colaboratory.intrinsic+json": {
              "type": "string"
            },
            "text/plain": [
              "'113.09733552923255'"
            ]
          },
          "metadata": {
            "tags": []
          },
          "execution_count": 2
        }
      ]
    },
    {
      "cell_type": "code",
      "metadata": {
        "id": "d0NkBAg0gooM",
        "outputId": "58fab9b7-8311-4eb6-c776-bb18ef51af68",
        "colab": {
          "base_uri": "https://localhost:8080/",
          "height": 51
        }
      },
      "source": [
        "#3\n",
        "string =\"lily daffodils rose\" \n",
        "word=\"rose\" in string\n",
        "print (word) \n",
        "x=string. find(\"rose\") \n",
        "print(x)"
      ],
      "execution_count": 3,
      "outputs": [
        {
          "output_type": "stream",
          "text": [
            "True\n",
            "15\n"
          ],
          "name": "stdout"
        }
      ]
    },
    {
      "cell_type": "code",
      "metadata": {
        "id": "cns--yW9gq4U",
        "outputId": "1ad00bdb-cd18-4400-a1ce-01149fc2935b",
        "colab": {
          "base_uri": "https://localhost:8080/",
          "height": 164
        }
      },
      "source": [
        "#4\n",
        "def common_data(list1,list2):\n",
        "result = false\n",
        "for x, y in list1:\n",
        "for a, b in list2:\n",
        "if x==a, y==b:\n",
        "result = true\n",
        "return result\n",
        "print (common _data([1,2,3,4,5] ,[4,5,6,7,8])\n",
        "print (common_data([1,2,3,4,5], [6,7,8])"
      ],
      "execution_count": 4,
      "outputs": [
        {
          "output_type": "error",
          "ename": "IndentationError",
          "evalue": "ignored",
          "traceback": [
            "\u001b[0;36m  File \u001b[0;32m\"<ipython-input-4-b9cc1a82ed74>\"\u001b[0;36m, line \u001b[0;32m3\u001b[0m\n\u001b[0;31m    result = false\u001b[0m\n\u001b[0m         ^\u001b[0m\n\u001b[0;31mIndentationError\u001b[0m\u001b[0;31m:\u001b[0m expected an indented block\n"
          ]
        }
      ]
    },
    {
      "cell_type": "code",
      "metadata": {
        "id": "snixN441gtRk",
        "outputId": "c82ef2d4-782e-4bb8-8d2c-0124947ec75b",
        "colab": {
          "base_uri": "https://localhost:8080/",
          "height": 34
        }
      },
      "source": [
        "#5\n",
        "num = 11\n",
        "  \n",
        "if num > 1:  \n",
        "   for i in range(2,num):  \n",
        "       if (num % i) == 0:  \n",
        "           print(num,\"is not a prime number\")   \n",
        "           break  \n",
        "   else:  \n",
        "       print(num,\"is a prime number\")  \n",
        "         \n",
        "else:  \n",
        "   print(num,\"is not a prime number\")"
      ],
      "execution_count": 5,
      "outputs": [
        {
          "output_type": "stream",
          "text": [
            "11 is a prime number\n"
          ],
          "name": "stdout"
        }
      ]
    },
    {
      "cell_type": "code",
      "metadata": {
        "id": "-ZVVYc6-gu_6",
        "outputId": "b9b19193-4b53-454c-f05f-cb8b53ddb35d",
        "colab": {
          "base_uri": "https://localhost:8080/",
          "height": 51
        }
      },
      "source": [
        "#6\n",
        "#list of fruits\n",
        "fruit = ['apple', 'banana', 'mango', 'pineapple ', 'pear']\n",
        "fruitName = input(\"Enter a fruit name:\")\n",
        "if fruitName.lower() in fruit:\n",
        "  print(\"%s is found in the list\" %(fruitName))\n",
        "else:\n",
        " \n",
        "  # Print not found message\n",
        "  print(\"%s is not found in the list\")"
      ],
      "execution_count": 6,
      "outputs": [
        {
          "output_type": "stream",
          "text": [
            "Enter a fruit name:Banana\n",
            "Banana is found in the list\n"
          ],
          "name": "stdout"
        }
      ]
    },
    {
      "cell_type": "code",
      "metadata": {
        "id": "uV2GQk_0gyt2",
        "outputId": "c8438be2-ae46-424e-d3ca-9229a53fdfd9",
        "colab": {
          "base_uri": "https://localhost:8080/",
          "height": 164
        }
      },
      "source": [
        "#7\n",
        "string =input(\"enter the string:\")\n",
        "string1  =\"civic\" \n",
        "for i in string :\n",
        "string 1 = i+ string \n",
        "print (\"string in reverse order:\", string 1)\n",
        "if(string =string1):\n",
        "print (\"civic is palindrome\") \n",
        "else:\n",
        "print (\"civic is not palindrome\")"
      ],
      "execution_count": 7,
      "outputs": [
        {
          "output_type": "error",
          "ename": "IndentationError",
          "evalue": "ignored",
          "traceback": [
            "\u001b[0;36m  File \u001b[0;32m\"<ipython-input-7-f9cff56e343f>\"\u001b[0;36m, line \u001b[0;32m5\u001b[0m\n\u001b[0;31m    string 1 = i+ string\u001b[0m\n\u001b[0m         ^\u001b[0m\n\u001b[0;31mIndentationError\u001b[0m\u001b[0;31m:\u001b[0m expected an indented block\n"
          ]
        }
      ]
    },
    {
      "cell_type": "code",
      "metadata": {
        "id": "YAHIcIK_gkIN"
      },
      "source": [
        ""
      ],
      "execution_count": null,
      "outputs": []
    }
  ]
}